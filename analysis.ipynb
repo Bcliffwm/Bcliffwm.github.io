{
 "cells": [
  {
   "cell_type": "markdown",
   "metadata": {},
   "source": [
    "# About the data  \n",
    "##### The dataset loaded into this notebook is a .csv file obtained from the CDC's preventative measures site.  \n",
    "##### [Bethlehem insert commentary here about what trends we want to see]  \n",
    "\n",
    "# Purpose of this notebook:\n",
    "##### Create a clean .csv file to work from for further analysis\n",
    "##### Perform preliminary analysis as well as diagnostics of the data\n",
    "##### Create visualizations from this notebook for upload onto our blog site"
   ]
  },
  {
   "cell_type": "code",
   "execution_count": null,
   "metadata": {},
   "outputs": [],
   "source": [
    "import pandas as pd"
   ]
  },
  {
   "cell_type": "code",
   "execution_count": null,
   "metadata": {},
   "outputs": [],
   "source": [
    "# Reading in prevention data\n",
    "prevent_df = pd.read_csv('preventativedata.csv')\n",
    "\n",
    "# Removing with little to no information\n",
    "prevent_df = prevent_df.drop(columns=['Data_Value_Unit', 'Data_Value_Footnote_Symbol', 'Data_Value_Footnote', 'TractFIPS', 'CategoryID', 'StateDesc', 'Data_Value_Type', 'DataSource',\n",
    "'DataValueTypeID', 'Category'])"
   ]
  },
  {
   "cell_type": "code",
   "execution_count": null,
   "metadata": {},
   "outputs": [],
   "source": [
    "# Removing undescores\n",
    "prevent_df.columns = prevent_df.columns.str.replace('_', '')\n",
    "prevent_df.columns"
   ]
  },
  {
   "cell_type": "code",
   "execution_count": null,
   "metadata": {},
   "outputs": [],
   "source": [
    "# Sorting values by unique ID; creating new index and dropping the old one\n",
    "prevent_df.sort_values(by=['UniqueID'], ascending=True).reset_index().head(5).drop(columns=['index'])"
   ]
  },
  {
   "cell_type": "code",
   "execution_count": null,
   "metadata": {},
   "outputs": [],
   "source": []
  }
 ],
 "metadata": {
  "interpreter": {
   "hash": "2bc16b4903e932b9a4b407adb96c7bd2d38ca3cbca67dd2cd7f7c504edfaa5a5"
  },
  "kernelspec": {
   "display_name": "Python 3.9.9 64-bit ('paionenv': pyenv)",
   "language": "python",
   "name": "python3"
  },
  "language_info": {
   "codemirror_mode": {
    "name": "ipython",
    "version": 3
   },
   "file_extension": ".py",
   "mimetype": "text/x-python",
   "name": "python",
   "nbconvert_exporter": "python",
   "pygments_lexer": "ipython3",
   "version": "3.9.9"
  },
  "orig_nbformat": 4
 },
 "nbformat": 4,
 "nbformat_minor": 2
}
